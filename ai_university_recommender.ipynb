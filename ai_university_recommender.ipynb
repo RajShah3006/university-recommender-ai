{
  "nbformat": 4,
  "nbformat_minor": 0,
  "metadata": {
    "colab": {
      "provenance": [],
      "authorship_tag": "ABX9TyOJlFgb8+/mRMwJx0ynwL59",
      "include_colab_link": true
    },
    "kernelspec": {
      "name": "python3",
      "display_name": "Python 3"
    },
    "language_info": {
      "name": "python"
    }
  },
  "cells": [
    {
      "cell_type": "markdown",
      "metadata": {
        "id": "view-in-github",
        "colab_type": "text"
      },
      "source": [
        "<a href=\"https://colab.research.google.com/github/RajShah3006/university-recommender-ai/blob/main/ai_university_recommender.ipynb\" target=\"_parent\"><img src=\"https://colab.research.google.com/assets/colab-badge.svg\" alt=\"Open In Colab\"/></a>"
      ]
    },
    {
      "cell_type": "code",
      "metadata": {
        "id": "cad82c67"
      },
      "source": [
        "!pip install -q google-generativeai"
      ],
      "execution_count": 4,
      "outputs": []
    },
    {
      "cell_type": "code",
      "metadata": {
        "id": "507741af"
      },
      "source": [
        "# This is a basic example of how you could structure the chatbot logic.\n",
        "# You would need to expand on this to handle different user inputs and generate\n",
        "# responses based on the desired outputs outlined in the markdown cells.\n",
        "\n",
        "import google.generativeai as genai\n",
        "from google.colab import userdata\n",
        "\n",
        "# Assuming GOOGLE_API_KEY is already set up in Colab secrets\n",
        "GOOGLE_API_KEY=userdata.get('GOOGLE_API_KEY')\n",
        "genai.configure(api_key=GOOGLE_API_KEY)\n",
        "\n",
        "# Initialize the Gemini API\n",
        "model = genai.GenerativeModel('models/gemini-2.5-flash-preview-05-20')\n",
        "chat = model.start_chat(history=[])\n",
        "\n",
        "def get_user_information():\n",
        "  \"\"\"Collects information from the user.\"\"\"\n",
        "  user_data = {}\n",
        "  user_data['subjects'] = input(\"What subjects are you taking currently? \")\n",
        "  user_data['intrests'] = input(\"What are your intrests, some activity that you love to put effort into or you would like to be doing in 4 years? \")\n",
        "  user_data['overall_average'] = input(\"What is your overall average? \")\n",
        "  user_data['grade'] = input(\"What grade are you in? \")\n",
        "  user_data['location'] = input(\"Where are you located? \")\n",
        "  return user_data\n",
        "\n",
        "def generate_chatbot_response(user_data):\n",
        "  \"\"\"Generates a chatbot response based on user data.\"\"\"\n",
        "  prompt = f\"\"\"Based on the following student information:\n",
        "Subjects: {user_data['subjects']}\n",
        "Intrests: {user_data['intrests']}\n",
        "Overall Average: {user_data['overall_average']}\n",
        "Grade: {user_data['grade']}\n",
        "\n",
        "Please provide some relevant information, such as:\n",
        "- What program is recomended\n",
        "- A ranking of all the universities for that specific program, also:\n",
        "  - What are the prerequisites\n",
        "  - Last few years admission average\n",
        "  - How far the university is located\n",
        "- Recommendations (courses to pursue in highschool, projects to complete for your university application)\n",
        "\n",
        "Be specific and tailor the response to the student's input. Only give information for universities in Ontario.\n",
        "\"\"\"\n",
        "  response = chat.send_message(prompt)\n",
        "  return response.text\n",
        "\n",
        "# Start the chat\n",
        "print(\"Hello! I'm a student assistant chatbot. I can help you with information related to your studies.\")\n",
        "\n",
        "# Get user information\n",
        "student_info = get_user_information()\n",
        "\n",
        "# Generate and display chatbot response\n",
        "bot_response = generate_chatbot_response(student_info)\n",
        "print(\"\\nChatbot Response:\")\n",
        "print(bot_response)\n",
        "\n",
        "print(\"\\nChat session ended.\")"
      ],
      "execution_count": null,
      "outputs": []
    }
  ]
}